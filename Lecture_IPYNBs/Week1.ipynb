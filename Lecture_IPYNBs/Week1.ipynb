{
 "cells": [
  {
   "cell_type": "markdown",
   "metadata": {},
   "source": [
    "# Reading\n",
    "* Chapter 1\n",
    "\t- 1.2 - Hardware and Software\n",
    "\t- 1.3 - How Computers Store Data\n",
    "\t- 1.4 - How a Program Works\n",
    "\t- 1.5 - Using Python\n",
    "* Chapter 2\n",
    "\t- 2.1 - Designing a Program\n",
    "\t- 2.2 - Input, Processing, Output\n",
    "\t- 2.3 - Displaying Output with the `print` Function\n",
    "\t- 2.4 - Comments\n",
    "\t- 2.5 - Variables"
   ]
  },
  {
   "cell_type": "markdown",
   "metadata": {},
   "source": [
    "# The Hardware and Your Program\n",
    "### Glossary\n",
    "*Hardware* - the physical devices that make up the computer  \n",
    "*CPU* - the hardware component that executes the code and directs other hardware^[Also called the *central processing unit*]  \n",
    "*Main Memory* - the computer's work area, held in special chips called RAM  \n",
    "*RAM* - the hardware component that holds main memory.^[Short for \"Random Access Memory\"]  \n",
    "*Secondary Storage* - a place where our programs can store longterm data, held in some kind of drive usually solid state or on a disk.^[USB drives also function as a place for secondary storage to be located]  \n",
    "*Operating System* - A program that dictates how a user and other programs can interact with the hardware of the computer  \n",
    "*Software* / *Program* - A set of ordered instructions given to the computer to accomplish some task.  \n",
    "*Input Device* - A piece of hardware that can gather input from outside the computer.^[Commonly these are: mice, keyboards, touch screens, scanners, microphones, cameras, and other devices connected to the computer]  \n",
    "*Output Device* - A piece of hardware that displays information created by a program.^[Commonly these are: video displays, printers, and sometimes secondary storage could be considered an output device if the data being stored is meant to be used in another context]  \n",
    "*Binary* - The number system that allows us to store information as electrical signals for use in a computer. The digits are `0` and `1`.  \n",
    "*IDE* - The development environment where we write code to be executed. Python has a special IDE called *IDLE* intended to help you learn python.\n",
    "\n",
    "## How the Computer Stores Data\n",
    "- Electricity and circuits don't handle partial information well meaning we can't divide our numbering system into 10 pieces like we would normally in math. Instead what we *can* do is represent and store a series of high and low pulses of electricity.\n",
    "- If we only have two digits (`0` and `1` corresponding to a low and high pulse respectively) in our number system we are counting in *binary*\n",
    "- An unending series of binary digits is unwieldy and hard to work with, so most computers today deal with groups of digits called a *byte* with enough information to store a small number or a single letter.\n",
    "  - To represent a number we can count the number of binary digits (also called a *bit*) in the number and use the bit's position to get how many of each power of 2 is in a number counting starting with 0 and the furthest right digit moving left.\n",
    "    - This means that `10101011` in binary is equal to $1 \\times 2^7 + 0 \\times 2^6 + 1 \\times 2^5 + 0 \\times 2^4 + 1 \\times 2^3 + 0 \\times 2^2 + 1 \\times 2 + 1 = 341$\n",
    "  - Characters also get stored as numbers! There is a special table called the [ASCII Table](https://www.ascii-code.com/) that maps each character to a specific number.\n",
    "  - Our previous number system only works for whole and positive numbers. Sometimes we need to represent more complex numbers and we have ways of storing those as well!\n",
    "    - If a number can be negative it is *signed* and instead of using the first digit in our number we use that bit to indicate if it is negative. If the number is negative we perform a technique called *two's compliment* to get the correct negative number.\n",
    "    - If a number isn't whole we instead use a kind of scientific notation for binary called *floating-point* notation.\n",
    "\n",
    "## How the Computer Manipulates Data\n",
    "- In order for a computer to actually do its thing, we need a director to organize all the data. The intuitive answer would be that this is what our code is for, but that's only half the answer.\n",
    "- The actual brains behind what a computer does is the CPU, or central processing unit. It takes all the data provided to it from input devices and secondary storage (as well as other computer hardware components) to run different programs.\n",
    "  - While the CPU is running programs it loads the data it needs into easy to access spaces in main memory and reads machine instructions.\n",
    "  - We don't code with machine instructions though! Normally we would have another program called a compiler to gather all the machine instructions and compile them into a single set.\n",
    "    - Python is unique, it isn't a compiled language and instead is interpreted which means that the python interpreter is giving the CPU machine instructions on the fly as it encounters them.\n",
    "- The CPU is not the only thing that interacts with our programs!\n",
    "  - Sometimes we need to get input from the user in the form of an answer to a question, a click of a button, or a picture or scan of a document. In order to do this we can include a command to get the input in our code, and the CPU will poll the correct device for data!\n",
    "  - Sometimes we need to give output to the user in the form of a picture, a physical document, or sound. In order to do this we include a command to provide the CPU with our output to be given to the correct output device for our desired output!\n",
    "- When the CPU executes an instruction in a program it starts a three step process:\n",
    "  1. *Fetch* - The CPU fetches the next machine instruction from main memory\n",
    "  2. *Decode* - The machine instruction is a sequence of binary digits, and gets decoded into a specific operation for the CPU to perform\n",
    "  3. *Execute* - The decoded instruction is executed\n",
    "\n",
    "## Programming in Python\n",
    "- Usually code is written in files that get run later. Python is nice because we can interact with the interpreter and give it one instruction at a time. This is known as *interactive mode* and we can start it by opening a terminal and typing `python` (or by searching for python in the Windows start menu) on a computer with python installed.\n",
    "- If we want to instead write our code in a file we can! If we save it as a `.py` file and then type `python CODE.py` (where CODE.py is the name of our code file) in our terminal python will execute each line as if they were sequentially put into interactive mode."
   ]
  },
  {
   "cell_type": "markdown",
   "metadata": {},
   "source": [
    "# Writing Python Programs\n",
    "\n"
   ]
  }
 ],
 "metadata": {
  "kernelspec": {
   "display_name": "Python 3",
   "language": "python",
   "name": "python3"
  },
  "language_info": {
   "codemirror_mode": {
    "name": "ipython",
    "version": 3
   },
   "file_extension": ".py",
   "mimetype": "text/x-python",
   "name": "python",
   "nbconvert_exporter": "python",
   "pygments_lexer": "ipython3",
   "version": "3.11.8"
  }
 },
 "nbformat": 4,
 "nbformat_minor": 2
}
