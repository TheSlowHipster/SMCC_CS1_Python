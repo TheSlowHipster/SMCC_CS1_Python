{
 "cells": [
  {
   "cell_type": "markdown",
   "metadata": {},
   "source": [
    "# Reading\n",
    "* Chapter 1\n",
    "\t- 1.2 - Hardware and Software\n",
    "\t- 1.3 - How Computers Store Data\n",
    "\t- 1.4 - How a Program Works\n",
    "\t- 1.5 - Using Python\n",
    "* Chapter 2\n",
    "\t- 2.1 - Designing a Program\n",
    "\t- 2.2 - Input, Processing, Output\n",
    "\t- 2.3 - Displaying Output with the `print` Function\n",
    "\t- 2.4 - Comments\n",
    "\t- 2.5 - Variables"
   ]
  },
  {
   "cell_type": "markdown",
   "metadata": {},
   "source": [
    "#programLayout #variables #input #print\n",
    "\n",
    "# The Hardware and Your Program\n",
    "### Glossary\n",
    "*Hardware* - the physical devices that make up the computer  \n",
    "*CPU* - the hardware component that executes the code and directs other hardware^[Also called the *central processing unit*]  \n",
    "*Main Memory* - the computer's work area, held in special chips called RAM  \n",
    "*RAM* - the hardware component that holds main memory.^[Short for \"Random Access Memory\"]  \n",
    "*Secondary Storage* - a place where our programs can store longterm data, held in some kind of drive usually solid state or on a disk.^[USB drives also function as a place for secondary storage to be located]  \n",
    "*Operating System* - A program that dictates how a user and other programs can interact with the hardware of the computer  \n",
    "*Software* / *Program* - A set of ordered instructions given to the computer to accomplish some task.  \n",
    "*Input Device* - A piece of hardware that can gather input from outside the computer.^[Commonly these are: mice, keyboards, touch screens, scanners, microphones, cameras, and other devices connected to the computer]  \n",
    "*Output Device* - A piece of hardware that displays information created by a program.^[Commonly these are: video displays, printers, and sometimes secondary storage could be considered an output device if the data being stored is meant to be used in another context]  \n",
    "*Binary* - The number system that allows us to store information as electrical signals for use in a computer. The digits are `0` and `1`.  \n",
    "*IDE* - The development environment where we write code to be executed. Python has a special IDE called *IDLE* intended to help you learn python.\n",
    "\n",
    "## How the Computer Stores Data\n",
    "- Electricity and circuits don't handle partial information well meaning we can't divide our numbering system into 10 pieces like we would normally in math. Instead what we *can* do is represent and store a series of high and low pulses of electricity.\n",
    "- If we only have two digits (`0` and `1` corresponding to a low and high pulse respectively) in our number system we are counting in *binary*\n",
    "- An unending series of binary digits is unwieldy and hard to work with, so most computers today deal with groups of digits called a *byte* with enough information to store a small number or a single letter.\n",
    "  - To represent a number we can count the number of binary digits (also called a *bit*) in the number and use the bit's position to get how many of each power of 2 is in a number counting starting with 0 and the furthest right digit moving left.\n",
    "    - This means that `10101011` in binary is equal to $1 \\times 2^7 + 0 \\times 2^6 + 1 \\times 2^5 + 0 \\times 2^4 + 1 \\times 2^3 + 0 \\times 2^2 + 1 \\times 2 + 1 = $"
   ]
  },
  {
   "cell_type": "code",
   "execution_count": null,
   "metadata": {},
   "outputs": [],
   "source": [
    "def binaryCalc():\n",
    "    digits = \"10101011\"\n",
    "    result = 0\n",
    "    for idx in range(len(digits)):\n",
    "        result += pow(2, idx - len(digits))\n",
    "\n",
    "def pow(base: int, pow: int)->int:\n",
    "    result = base\n",
    "    for _ in range(pow):\n",
    "        result *= base\n",
    "    return result\n",
    "\n",
    "binaryCalc()"
   ]
  }
 ],
 "metadata": {
  "kernelspec": {
   "display_name": "Python 3",
   "language": "python",
   "name": "python3"
  },
  "language_info": {
   "name": "python",
   "version": "3.11.5"
  }
 },
 "nbformat": 4,
 "nbformat_minor": 2
}
